{
  "cells": [
    {
      "cell_type": "code",
      "execution_count": null,
      "metadata": {
        "colab": {
          "base_uri": "https://localhost:8080/"
        },
        "id": "6YF_NXea7JNv",
        "outputId": "6e474685-b7b9-4751-b313-d44f7e8ca877"
      },
      "outputs": [
        {
          "name": "stdout",
          "output_type": "stream",
          "text": [
            "[nltk_data] Downloading package punkt to /root/nltk_data...\n",
            "[nltk_data]   Unzipping tokenizers/punkt.zip.\n",
            "[nltk_data] Downloading package wordnet to /root/nltk_data...\n",
            "[nltk_data]   Unzipping corpora/wordnet.zip.\n",
            "[nltk_data] Downloading package averaged_perceptron_tagger to\n",
            "[nltk_data]     /root/nltk_data...\n",
            "[nltk_data]   Unzipping taggers/averaged_perceptron_tagger.zip.\n",
            "[nltk_data] Downloading package stopwords to /root/nltk_data...\n",
            "[nltk_data]   Unzipping corpora/stopwords.zip.\n"
          ]
        }
      ],
      "source": [
        "import pandas as pd\n",
        "import numpy as np\n",
        "import nltk\n",
        "nltk.download('punkt')\n",
        "from nltk import word_tokenize\n",
        "from nltk.tokenize import RegexpTokenizer\n",
        "from nltk.corpus import stopwords\n",
        "from nltk import pos_tag\n",
        "from nltk.stem import WordNetLemmatizer\n",
        "\n",
        "nltk.download('wordnet')\n",
        "nltk.download('averaged_perceptron_tagger')\n",
        "nltk.download('stopwords')\n",
        "reg_token=RegexpTokenizer('[a-zA-Z]+')\n",
        "sw=set(stopwords.words('english'))\n",
        "wnl=WordNetLemmatizer()"
      ]
    },
    {
      "cell_type": "code",
      "execution_count": null,
      "metadata": {
        "id": "jxxsj5JX7iHS"
      },
      "outputs": [],
      "source": [
        "import csv\n",
        "data=pd.read_csv('IMDB Dataset.csv',engine='c',error_bad_lines=False)"
      ]
    },
    {
      "cell_type": "code",
      "execution_count": null,
      "metadata": {
        "colab": {
          "base_uri": "https://localhost:8080/",
          "height": 423
        },
        "id": "-G3IIG4JyQ9w",
        "outputId": "86048ca1-1cb5-4509-daa1-d3106c6a2a1a"
      },
      "outputs": [
        {
          "data": {
            "text/html": [
              "<div>\n",
              "<style scoped>\n",
              "    .dataframe tbody tr th:only-of-type {\n",
              "        vertical-align: middle;\n",
              "    }\n",
              "\n",
              "    .dataframe tbody tr th {\n",
              "        vertical-align: top;\n",
              "    }\n",
              "\n",
              "    .dataframe thead th {\n",
              "        text-align: right;\n",
              "    }\n",
              "</style>\n",
              "<table border=\"1\" class=\"dataframe\">\n",
              "  <thead>\n",
              "    <tr style=\"text-align: right;\">\n",
              "      <th></th>\n",
              "      <th>review</th>\n",
              "      <th>sentiment</th>\n",
              "    </tr>\n",
              "  </thead>\n",
              "  <tbody>\n",
              "    <tr>\n",
              "      <th>0</th>\n",
              "      <td>One of the other reviewers has mentioned that ...</td>\n",
              "      <td>positive</td>\n",
              "    </tr>\n",
              "    <tr>\n",
              "      <th>1</th>\n",
              "      <td>A wonderful little production. &lt;br /&gt;&lt;br /&gt;The...</td>\n",
              "      <td>positive</td>\n",
              "    </tr>\n",
              "    <tr>\n",
              "      <th>2</th>\n",
              "      <td>I thought this was a wonderful way to spend ti...</td>\n",
              "      <td>positive</td>\n",
              "    </tr>\n",
              "    <tr>\n",
              "      <th>3</th>\n",
              "      <td>Basically there's a family where a little boy ...</td>\n",
              "      <td>negative</td>\n",
              "    </tr>\n",
              "    <tr>\n",
              "      <th>4</th>\n",
              "      <td>Petter Mattei's \"Love in the Time of Money\" is...</td>\n",
              "      <td>positive</td>\n",
              "    </tr>\n",
              "    <tr>\n",
              "      <th>...</th>\n",
              "      <td>...</td>\n",
              "      <td>...</td>\n",
              "    </tr>\n",
              "    <tr>\n",
              "      <th>49995</th>\n",
              "      <td>I thought this movie did a down right good job...</td>\n",
              "      <td>positive</td>\n",
              "    </tr>\n",
              "    <tr>\n",
              "      <th>49996</th>\n",
              "      <td>Bad plot, bad dialogue, bad acting, idiotic di...</td>\n",
              "      <td>negative</td>\n",
              "    </tr>\n",
              "    <tr>\n",
              "      <th>49997</th>\n",
              "      <td>I am a Catholic taught in parochial elementary...</td>\n",
              "      <td>negative</td>\n",
              "    </tr>\n",
              "    <tr>\n",
              "      <th>49998</th>\n",
              "      <td>I'm going to have to disagree with the previou...</td>\n",
              "      <td>negative</td>\n",
              "    </tr>\n",
              "    <tr>\n",
              "      <th>49999</th>\n",
              "      <td>No one expects the Star Trek movies to be high...</td>\n",
              "      <td>negative</td>\n",
              "    </tr>\n",
              "  </tbody>\n",
              "</table>\n",
              "<p>50000 rows × 2 columns</p>\n",
              "</div>"
            ],
            "text/plain": [
              "                                                  review sentiment\n",
              "0      One of the other reviewers has mentioned that ...  positive\n",
              "1      A wonderful little production. <br /><br />The...  positive\n",
              "2      I thought this was a wonderful way to spend ti...  positive\n",
              "3      Basically there's a family where a little boy ...  negative\n",
              "4      Petter Mattei's \"Love in the Time of Money\" is...  positive\n",
              "...                                                  ...       ...\n",
              "49995  I thought this movie did a down right good job...  positive\n",
              "49996  Bad plot, bad dialogue, bad acting, idiotic di...  negative\n",
              "49997  I am a Catholic taught in parochial elementary...  negative\n",
              "49998  I'm going to have to disagree with the previou...  negative\n",
              "49999  No one expects the Star Trek movies to be high...  negative\n",
              "\n",
              "[50000 rows x 2 columns]"
            ]
          },
          "execution_count": 30,
          "metadata": {},
          "output_type": "execute_result"
        }
      ],
      "source": [
        "data"
      ]
    },
    {
      "cell_type": "code",
      "execution_count": null,
      "metadata": {
        "id": "zM29dZfHC6F-"
      },
      "outputs": [],
      "source": [
        "from nltk.corpus import wordnet\n",
        "def simple_pos(p):\n",
        "  if p.startswith('J'):\n",
        "    return wordnet.ADJ\n",
        "  elif p.startswith('V'):\n",
        "    return wordnet.VERB\n",
        "  elif p.startswith('N'):\n",
        "    return wordnet.NOUN\n",
        "  elif p.startswith('R'):\n",
        "    return wordnet.ADV\n",
        "  else:\n",
        "    return wordnet.NOUN "
      ]
    },
    {
      "cell_type": "code",
      "execution_count": null,
      "metadata": {
        "id": "6WAnnqycDedf"
      },
      "outputs": [],
      "source": [
        "def clean_data(k):\n",
        "  d=reg_token.tokenize(k)\n",
        "  cleaned_words=[]\n",
        "  for w in d:\n",
        "    if w.lower() not in sw:\n",
        "      p=pos_tag([w])\n",
        "      word=wnl.lemmatize(w,pos=simple_pos(p[0][1]))\n",
        "      cleaned_words.append(word.lower())\n",
        "\n",
        "  return \" \".join(cleaned_words)"
      ]
    },
    {
      "cell_type": "code",
      "execution_count": null,
      "metadata": {
        "id": "MZ3lw6cqDizD"
      },
      "outputs": [],
      "source": [
        "data['review']=data['review'].apply(clean_data)"
      ]
    },
    {
      "cell_type": "code",
      "execution_count": null,
      "metadata": {
        "colab": {
          "base_uri": "https://localhost:8080/"
        },
        "id": "O3XR09ulDr18",
        "outputId": "8a28f0dc-d102-42b7-a737-5c13b93d37c3"
      },
      "outputs": [
        {
          "data": {
            "text/plain": [
              "count     50000\n",
              "unique        1\n",
              "top       False\n",
              "freq      50000\n",
              "Name: review, dtype: object"
            ]
          },
          "execution_count": 32,
          "metadata": {},
          "output_type": "execute_result"
        }
      ],
      "source": [
        "check=data['review'].isna()\n",
        "check.describe()"
      ]
    },
    {
      "cell_type": "code",
      "execution_count": null,
      "metadata": {
        "id": "LUTATjggEOet"
      },
      "outputs": [],
      "source": [
        "from sklearn.pipeline import Pipeline\n",
        "from sklearn.feature_extraction.text import CountVectorizer\n",
        "from sklearn.feature_extraction.text import TfidfVectorizer\n",
        "from sklearn.model_selection import GridSearchCV"
      ]
    },
    {
      "cell_type": "code",
      "execution_count": null,
      "metadata": {
        "id": "uJbXqTle7DsT"
      },
      "outputs": [],
      "source": [
        "y=data.iloc[:,-1]\n",
        "x=data.iloc[:,-2]"
      ]
    },
    {
      "cell_type": "code",
      "execution_count": null,
      "metadata": {
        "id": "ZCg1viRcCulQ"
      },
      "outputs": [],
      "source": [
        "from sklearn.model_selection import train_test_split\n",
        "x_train,x_test,y_train,y_test=train_test_split(x,y,test_size=0.3,random_state=2)"
      ]
    },
    {
      "cell_type": "code",
      "execution_count": null,
      "metadata": {
        "id": "CGmIGLgIXjgy"
      },
      "outputs": [],
      "source": [
        "from sklearn.svm import LinearSVC"
      ]
    },
    {
      "cell_type": "code",
      "execution_count": null,
      "metadata": {
        "id": "q5zH1M_KXUwn"
      },
      "outputs": [],
      "source": [
        "pip=Pipeline([('tv',TfidfVectorizer(lowercase=False)),('ls',LinearSVC())])\n",
        "para=[{'tv__max_df':[0.1,0.2,0.3],'tv__binary':[True,False],'tv__ngram_range':[(1,1),(1,2)],'ls__dual':[True,False],'ls__C':[0.1,0.3,0.6,1],'ls__random_state':[42] }]"
      ]
    },
    {
      "cell_type": "code",
      "execution_count": null,
      "metadata": {
        "colab": {
          "base_uri": "https://localhost:8080/"
        },
        "id": "dO4zf6xSLDFc",
        "outputId": "309ea5ae-7b69-4e5b-9109-3103a14ae380"
      },
      "outputs": [
        {
          "data": {
            "text/plain": [
              "GridSearchCV(estimator=Pipeline(steps=[('tv', TfidfVectorizer(lowercase=False)),\n",
              "                                       ('ls', LinearSVC())]),\n",
              "             param_grid=[{'ls__C': [0.1, 0.3, 0.6, 1],\n",
              "                          'ls__dual': [True, False], 'ls__random_state': [42],\n",
              "                          'tv__binary': [True, False],\n",
              "                          'tv__max_df': [0.1, 0.2, 0.3],\n",
              "                          'tv__ngram_range': [(1, 1), (1, 2)]}])"
            ]
          },
          "execution_count": 53,
          "metadata": {},
          "output_type": "execute_result"
        }
      ],
      "source": [
        "gs_model=GridSearchCV(pip,param_grid=para)\n",
        "gs_model.fit(x_train,y_train)"
      ]
    },
    {
      "cell_type": "code",
      "execution_count": null,
      "metadata": {
        "colab": {
          "base_uri": "https://localhost:8080/"
        },
        "id": "X8Jr6Dn8LLm2",
        "outputId": "24e2bfb1-6aba-4fc4-cf12-00be8c4a7207"
      },
      "outputs": [
        {
          "data": {
            "text/plain": [
              "{'ls__C': 1,\n",
              " 'ls__dual': True,\n",
              " 'ls__random_state': 42,\n",
              " 'tv__binary': False,\n",
              " 'tv__max_df': 0.2,\n",
              " 'tv__ngram_range': (1, 2)}"
            ]
          },
          "execution_count": 54,
          "metadata": {},
          "output_type": "execute_result"
        }
      ],
      "source": [
        "gs_model.best_params_"
      ]
    },
    {
      "cell_type": "code",
      "execution_count": null,
      "metadata": {
        "colab": {
          "base_uri": "https://localhost:8080/"
        },
        "id": "gS2397WOLSTS",
        "outputId": "af522c91-8bc3-4b24-fe0e-7e73c2735bc0"
      },
      "outputs": [
        {
          "data": {
            "text/plain": [
              "TfidfVectorizer(lowercase=False, max_df=0.2, ngram_range=(1, 2))"
            ]
          },
          "execution_count": 65,
          "metadata": {},
          "output_type": "execute_result"
        }
      ],
      "source": [
        "vectorizer=TfidfVectorizer(lowercase=False,max_df=0.2,ngram_range=(1,2))\n",
        "vectorizer.fit(x_train)"
      ]
    },
    {
      "cell_type": "code",
      "execution_count": null,
      "metadata": {
        "id": "ZJ3le8fM2rdr"
      },
      "outputs": [],
      "source": [
        "x_train_vector=vectorizer.transform(x_train)\n",
        "x_test_vector=vectorizer.transform(x_test)"
      ]
    },
    {
      "cell_type": "code",
      "execution_count": null,
      "metadata": {
        "colab": {
          "base_uri": "https://localhost:8080/"
        },
        "id": "S86GwPlp2iEj",
        "outputId": "7822c52d-cc9a-4c6b-ffb4-fb3ebcd64dfa"
      },
      "outputs": [
        {
          "data": {
            "text/plain": [
              "1.0"
            ]
          },
          "execution_count": 67,
          "metadata": {},
          "output_type": "execute_result"
        }
      ],
      "source": [
        "model=LinearSVC()\n",
        "model.fit(x_train_vector,y_train)\n",
        "model.score(x_train_vector,y_train)"
      ]
    },
    {
      "cell_type": "code",
      "execution_count": null,
      "metadata": {
        "colab": {
          "base_uri": "https://localhost:8080/"
        },
        "id": "SYCGphf83HOp",
        "outputId": "6f711cdc-4a44-49f0-c0db-2e18cada33a8"
      },
      "outputs": [
        {
          "data": {
            "text/plain": [
              "0.9075333333333333"
            ]
          },
          "execution_count": 68,
          "metadata": {},
          "output_type": "execute_result"
        }
      ],
      "source": [
        "model.score(x_test_vector,y_test)"
      ]
    },
    {
      "cell_type": "code",
      "execution_count": null,
      "metadata": {
        "colab": {
          "base_uri": "https://localhost:8080/"
        },
        "id": "BhSHHzsV3W0t",
        "outputId": "3d54107f-40ca-4602-8834-0b8c5b3daa5e"
      },
      "outputs": [
        {
          "data": {
            "text/plain": [
              "['vectorizer.sav']"
            ]
          },
          "execution_count": 62,
          "metadata": {},
          "output_type": "execute_result"
        }
      ],
      "source": [
        "import joblib\n",
        "joblib.dump(model,'model.sav')\n",
        "joblib.dump(vectorizer,'vectorizer.sav')"
      ]
    },
    {
      "cell_type": "code",
      "execution_count": null,
      "metadata": {
        "id": "wTNCe5db4lYC"
      },
      "outputs": [],
      "source": []
    }
  ],
  "metadata": {
    "colab": {
      "name": "IMDB.ipynb",
      "provenance": []
    },
    "kernelspec": {
      "display_name": "Python 3",
      "name": "python3"
    },
    "language_info": {
      "name": "python"
    }
  },
  "nbformat": 4,
  "nbformat_minor": 0
}
